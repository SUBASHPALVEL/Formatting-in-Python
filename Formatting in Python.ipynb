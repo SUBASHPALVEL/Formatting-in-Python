{
 "cells": [
  {
   "cell_type": "code",
   "execution_count": 1,
   "id": "a79d5eac",
   "metadata": {},
   "outputs": [],
   "source": [
    "user=\"Subash Palvel\"\n",
    "age=\"21\""
   ]
  },
  {
   "cell_type": "code",
   "execution_count": 5,
   "id": "050f0c17",
   "metadata": {},
   "outputs": [
    {
     "name": "stdout",
     "output_type": "stream",
     "text": [
      "Hi Subash Palvel your age is 21\n"
     ]
    }
   ],
   "source": [
    "print(\"Hi {0} your age is {1}\".format(user,age))"
   ]
  },
  {
   "cell_type": "code",
   "execution_count": 6,
   "id": "784ee33b",
   "metadata": {},
   "outputs": [
    {
     "name": "stdout",
     "output_type": "stream",
     "text": [
      "Hi John your age is 35\n"
     ]
    }
   ],
   "source": [
    "print(\"Hi {new_user} your age is {age}\".format(new_user=\"John\",age=35))"
   ]
  },
  {
   "cell_type": "code",
   "execution_count": 7,
   "id": "fbd0268a",
   "metadata": {},
   "outputs": [
    {
     "name": "stdout",
     "output_type": "stream",
     "text": [
      "Hi Jenny your age is 36\n"
     ]
    }
   ],
   "source": [
    "print(\"Hi {} your age is {}\".format(\"Jenny\",36))"
   ]
  },
  {
   "cell_type": "code",
   "execution_count": null,
   "id": "adb8c8d5",
   "metadata": {},
   "outputs": [],
   "source": []
  }
 ],
 "metadata": {
  "kernelspec": {
   "display_name": "Python 3 (ipykernel)",
   "language": "python",
   "name": "python3"
  },
  "language_info": {
   "codemirror_mode": {
    "name": "ipython",
    "version": 3
   },
   "file_extension": ".py",
   "mimetype": "text/x-python",
   "name": "python",
   "nbconvert_exporter": "python",
   "pygments_lexer": "ipython3",
   "version": "3.10.5"
  }
 },
 "nbformat": 4,
 "nbformat_minor": 5
}
